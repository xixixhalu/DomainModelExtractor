{
 "cells": [
  {
   "cell_type": "code",
   "execution_count": 16,
   "metadata": {},
   "outputs": [],
   "source": [
    "import pandas as pd"
   ]
  },
  {
   "cell_type": "code",
   "execution_count": 40,
   "metadata": {},
   "outputs": [],
   "source": [
    "f = open('dictionary.txt', 'r')\n",
    "cnt = 0\n",
    "words = []\n",
    "while True:\n",
    "    line = f.readline()\n",
    "    if not line:\n",
    "        break\n",
    "    line = line.strip()\n",
    "    line = line.split()\n",
    "    if len(line) > 2:\n",
    "        if '(n)~' in line:\n",
    "            idx = line.index('(n)~')\n",
    "            word = line[:idx]\n",
    "            word = ' '.join(word)\n",
    "            words.append(word)\n",
    "        elif '(PN)~' in line:\n",
    "            idx = line.index('(PN)~')\n",
    "            word = line[:idx]\n",
    "            word = ' '.join(word)\n",
    "            words.append(word)\n",
    "        elif '(adj)~' in line:\n",
    "            idx = line.index('(adj)~')\n",
    "            word = line[:idx]\n",
    "            word = ' '.join(word)\n",
    "            words.append(word)\n",
    "        elif '(v)~' in line:\n",
    "            idx = line.index('(v)~')\n",
    "            word = line[:idx]\n",
    "            word = ' '.join(word)\n",
    "            words.append(word)\n",
    "        elif '(oth)~' in line:\n",
    "            idx = line.index('(oth)~')\n",
    "            word = line[:idx]\n",
    "            word = ' '.join(word)\n",
    "            words.append(word)\n",
    "        elif '~' in line:\n",
    "            idx = line.index('~')\n",
    "            word = line[:idx]\n",
    "            word = ' '.join(word)\n",
    "            words.append(word)\n",
    "        else:\n",
    "            continue"
   ]
  },
  {
   "cell_type": "code",
   "execution_count": 41,
   "metadata": {},
   "outputs": [
    {
     "data": {
      "text/plain": [
       "26380"
      ]
     },
     "execution_count": 41,
     "metadata": {},
     "output_type": "execute_result"
    }
   ],
   "source": [
    "len(words)"
   ]
  },
  {
   "cell_type": "code",
   "execution_count": 43,
   "metadata": {},
   "outputs": [
    {
     "data": {
      "text/plain": [
       "['Zoom, Up and In',\n",
       " 'z-order',\n",
       " 'ZPODD',\n",
       " 'z-report',\n",
       " 'ZRS',\n",
       " 'zSeries',\n",
       " 'ZSK',\n",
       " 'Zune',\n",
       " 'zune',\n",
       " 'Zune software']"
      ]
     },
     "execution_count": 43,
     "metadata": {},
     "output_type": "execute_result"
    }
   ],
   "source": [
    "words[-10:]"
   ]
  },
  {
   "cell_type": "code",
   "execution_count": 44,
   "metadata": {},
   "outputs": [],
   "source": [
    "import json"
   ]
  },
  {
   "cell_type": "code",
   "execution_count": 45,
   "metadata": {},
   "outputs": [],
   "source": [
    "words_json = json.dumps(words)"
   ]
  },
  {
   "cell_type": "code",
   "execution_count": 48,
   "metadata": {},
   "outputs": [],
   "source": [
    "with open('dict.json', 'w') as outfile:\n",
    "    json.dump(words_json, outfile)"
   ]
  },
  {
   "cell_type": "code",
   "execution_count": 49,
   "metadata": {},
   "outputs": [],
   "source": [
    "with open('dict.txt', 'w') as outfile:\n",
    "    for i in words:\n",
    "        outfile.write(i + '\\n')\n",
    "outfile.close()"
   ]
  },
  {
   "cell_type": "code",
   "execution_count": null,
   "metadata": {},
   "outputs": [],
   "source": []
  }
 ],
 "metadata": {
  "kernelspec": {
   "display_name": "Python 3",
   "language": "python",
   "name": "python3"
  },
  "language_info": {
   "codemirror_mode": {
    "name": "ipython",
    "version": 3
   },
   "file_extension": ".py",
   "mimetype": "text/x-python",
   "name": "python",
   "nbconvert_exporter": "python",
   "pygments_lexer": "ipython3",
   "version": "3.8.4"
  }
 },
 "nbformat": 4,
 "nbformat_minor": 4
}
