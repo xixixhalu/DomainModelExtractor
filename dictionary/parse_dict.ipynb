{
 "cells": [
  {
   "cell_type": "code",
   "execution_count": 98,
   "metadata": {},
   "outputs": [],
   "source": [
    "import pandas as pd\n",
    "from spellchecker import SpellChecker\n",
    "import json"
   ]
  },
  {
   "cell_type": "code",
   "execution_count": 2,
   "metadata": {},
   "outputs": [
    {
     "name": "stdout",
     "output_type": "stream",
     "text": [
      "CPU times: user 173 ms, sys: 6.55 ms, total: 180 ms\n",
      "Wall time: 180 ms\n"
     ]
    }
   ],
   "source": [
    "%%time\n",
    "f = open('dictionary.txt', 'r')\n",
    "cnt = 0\n",
    "words = []\n",
    "rep = {}\n",
    "while True:\n",
    "    line = f.readline()\n",
    "    if not line:\n",
    "        break\n",
    "    line = line.strip()\n",
    "    line = line.split()\n",
    "    if len(line) > 2:\n",
    "        if '(n)~' in line:\n",
    "            idx = line.index('(n)~')\n",
    "            word = line[:idx]\n",
    "            #word = ' '.join(word)\n",
    "            for w in word:\n",
    "                if w in rep:\n",
    "                    continue\n",
    "                else:\n",
    "                    rep[w] = True\n",
    "                    words.append(w)\n",
    "            #words.append(word)\n",
    "        elif '(PN)~' in line:\n",
    "            idx = line.index('(PN)~')\n",
    "            word = line[:idx]\n",
    "            #word = ' '.join(word)\n",
    "            #words.append(word)\n",
    "            for w in word:\n",
    "                if w in rep:\n",
    "                    continue\n",
    "                else:\n",
    "                    rep[w] = True\n",
    "                    words.append(w)\n",
    "        elif '(adj)~' in line:\n",
    "            idx = line.index('(adj)~')\n",
    "            word = line[:idx]\n",
    "            #word = ' '.join(word)\n",
    "            #words.append(word)\n",
    "            for w in word:\n",
    "                if w in rep:\n",
    "                    continue\n",
    "                else:\n",
    "                    rep[w] = True\n",
    "                    words.append(w)\n",
    "        elif '(v)~' in line:\n",
    "            idx = line.index('(v)~')\n",
    "            word = line[:idx]\n",
    "            #word = ' '.join(word)\n",
    "            #words.append(word)\n",
    "            for w in word:\n",
    "                if w in rep:\n",
    "                    continue\n",
    "                else:\n",
    "                    rep[w] = True\n",
    "                    words.append(w)\n",
    "        elif '(oth)~' in line:\n",
    "            idx = line.index('(oth)~')\n",
    "            word = line[:idx]\n",
    "            #word = ' '.join(word)\n",
    "            #words.append(word)\n",
    "            for w in word:\n",
    "                if w in rep:\n",
    "                    continue\n",
    "                else:\n",
    "                    rep[w] = True\n",
    "                    words.append(w)\n",
    "        elif '~' in line:\n",
    "            idx = line.index('~')\n",
    "            word = line[:idx]\n",
    "            #word = ' '.join(word)\n",
    "            #words.append(word)\n",
    "            for w in word:\n",
    "                if w in rep:\n",
    "                    continue\n",
    "                else:\n",
    "                    rep[w] = True\n",
    "                    words.append(w)\n",
    "        else:\n",
    "            continue"
   ]
  },
  {
   "cell_type": "code",
   "execution_count": 99,
   "metadata": {},
   "outputs": [],
   "source": [
    "res_dict = {}\n",
    "for i in words:\n",
    "    res_dict[i] = 500"
   ]
  },
  {
   "cell_type": "code",
   "execution_count": 45,
   "metadata": {},
   "outputs": [],
   "source": [
    "words_json = json.dumps(res_dict)"
   ]
  },
  {
   "cell_type": "code",
   "execution_count": 100,
   "metadata": {},
   "outputs": [],
   "source": [
    "with open('dict.json', 'w') as outfile:\n",
    "    json.dump(res_dict, outfile)"
   ]
  },
  {
   "cell_type": "code",
   "execution_count": 101,
   "metadata": {},
   "outputs": [],
   "source": [
    "with open('dict.txt', 'w') as outfile:\n",
    "    for i in words:\n",
    "        outfile.write(i + '\\n')\n",
    "outfile.close()"
   ]
  },
  {
   "cell_type": "code",
   "execution_count": 102,
   "metadata": {},
   "outputs": [],
   "source": [
    "spell = SpellChecker(case_sensitive=True)"
   ]
  },
  {
   "cell_type": "code",
   "execution_count": 109,
   "metadata": {},
   "outputs": [],
   "source": [
    "spell.word_frequency.load_dictionary('dict.json')"
   ]
  }
 ],
 "metadata": {
  "kernelspec": {
   "display_name": "Python 3",
   "language": "python",
   "name": "python3"
  },
  "language_info": {
   "codemirror_mode": {
    "name": "ipython",
    "version": 3
   },
   "file_extension": ".py",
   "mimetype": "text/x-python",
   "name": "python",
   "nbconvert_exporter": "python",
   "pygments_lexer": "ipython3",
   "version": "3.8.4"
  }
 },
 "nbformat": 4,
 "nbformat_minor": 4
}
